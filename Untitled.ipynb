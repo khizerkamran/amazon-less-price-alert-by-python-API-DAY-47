{
 "cells": [
  {
   "cell_type": "code",
   "execution_count": 20,
   "id": "76873a0f",
   "metadata": {},
   "outputs": [
    {
     "name": "stdout",
     "output_type": "stream",
     "text": [
      "149.99\n",
      "Instant Pot Duo 7-in-1 Electric Pressure Cooker, Slow Cooker, Rice Cooker, Steamer, Saute, Yogurt Maker, and Warmer\n"
     ]
    }
   ],
   "source": [
    "from bs4 import BeautifulSoup\n",
    "import lxml\n",
    "import requests\n",
    "\n",
    "ACCEPT_LANGUAGE = \"en-US,en;q=0.9\"\n",
    "USER_AGENT = \"Mozilla/5.0 (Macintosh; Intel Mac OS X 10_15_7) AppleWebKit/537.36 (KHTML, like Gecko) Chrome/95.0.4638.69 Safari/537.36\"\n",
    "url = \"https://www.amazon.ca/Instant-Pot-Duo-Multi-Use-Programmable/dp/B00FLYWNYQ\"\n",
    "\n",
    "headers = {\n",
    "\"Accept-Language\": ACCEPT_LANGUAGE,\n",
    "\"User-Agent\": USER_AGENT\n",
    "}\n",
    "\n",
    "response = requests.get(url=PRODUCT_URL, headers=headers)\n",
    "amazon_response = response.text\n",
    "\n",
    "soup = BeautifulSoup(amazon_response, \"lxml\")\n",
    "\n",
    "product_price = float(soup.find(name=\"span\", class_=\"a-offscreen\").getText().strip(\"$\"))\n",
    "print(product_price)\n",
    "import smtplib\n",
    "\n",
    "title = soup.find(id=\"productTitle\").get_text().strip()\n",
    "print(title)\n",
    "\n",
    "BUY_PRICE = 200\n",
    "\n",
    "if product_price < BUY_PRICE:\n",
    "    message = f\"{title} is now {product_price}\"\n",
    "\n",
    "    with smtplib.SMTP(\"smtp.gmail.com\", port=587) as connection:\n",
    "        connection.starttls()\n",
    "        result = connection.login(\"kizerks977@gmail.com\", \"Your Password\")\n",
    "        connection.sendmail(\n",
    "            from_addr=\"kizerks977@gmail.com\",\n",
    "            to_addrs=\"kizerks977@gmail.com\",\n",
    "            msg=f\"Subject:Amazon Price Alert!\\n\\n{message}\\n{url}\"\n",
    "        )"
   ]
  },
  {
   "cell_type": "code",
   "execution_count": 8,
   "id": "7f611d7e",
   "metadata": {},
   "outputs": [],
   "source": [
    "from django.conf.urls import url"
   ]
  },
  {
   "cell_type": "code",
   "execution_count": null,
   "id": "43e797f0",
   "metadata": {},
   "outputs": [],
   "source": []
  }
 ],
 "metadata": {
  "kernelspec": {
   "display_name": "Python 3",
   "language": "python",
   "name": "python3"
  },
  "language_info": {
   "codemirror_mode": {
    "name": "ipython",
    "version": 3
   },
   "file_extension": ".py",
   "mimetype": "text/x-python",
   "name": "python",
   "nbconvert_exporter": "python",
   "pygments_lexer": "ipython3",
   "version": "3.8.7"
  }
 },
 "nbformat": 4,
 "nbformat_minor": 5
}
